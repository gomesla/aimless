{
 "cells": [
  {
   "cell_type": "code",
   "execution_count": 2,
   "id": "57691f20-0d24-47f9-b16b-8df0d9c6fb84",
   "metadata": {},
   "outputs": [],
   "source": [
    "import nbformat\n",
    "from nbconvert.preprocessors import ExecutePreprocessor\n",
    "import threading\n",
    "\n",
    "https://stackoverflow.com/questions/75316866/get-partial-output-from-nbconvert-preprocessors-executepreprocessor/75316929#75316929\n",
    "f = open('./prompt_III.template.ipynb')\n",
    "nb = nbformat.read(f, as_version=4)\n",
    "ep = ExecutePreprocessor(kernel_name='python3')\n",
    "def save_notebook():\n",
    "    threading.Timer(60, save_notebook).start()\n",
    "    with open('prompt_III.output.ipynb', 'w', encoding='utf-8') as f:\n",
    "        nbformat.write(nb, f)\n",
    "save_notebook()\n",
    "\n",
    "ep.preprocess(nb)\n",
    "\n"
   ]
  }
 ],
 "metadata": {
  "kernelspec": {
   "display_name": "Python 3 (ipykernel)",
   "language": "python",
   "name": "python3"
  },
  "language_info": {
   "codemirror_mode": {
    "name": "ipython",
    "version": 3
   },
   "file_extension": ".py",
   "mimetype": "text/x-python",
   "name": "python",
   "nbconvert_exporter": "python",
   "pygments_lexer": "ipython3",
   "version": "3.11.7"
  }
 },
 "nbformat": 4,
 "nbformat_minor": 5
}
